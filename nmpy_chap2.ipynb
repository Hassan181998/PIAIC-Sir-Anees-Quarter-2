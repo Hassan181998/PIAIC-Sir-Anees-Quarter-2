{
  "nbformat": 4,
  "nbformat_minor": 0,
  "metadata": {
    "colab": {
      "name": "nmpy chap2 ",
      "provenance": [],
      "include_colab_link": true
    },
    "kernelspec": {
      "name": "python3",
      "display_name": "Python 3"
    }
  },
  "cells": [
    {
      "cell_type": "markdown",
      "metadata": {
        "id": "view-in-github",
        "colab_type": "text"
      },
      "source": [
        "<a href=\"https://colab.research.google.com/github/Hassan181998/PIAIC-Sir-Anees-Quarter-2/blob/master/nmpy_chap2.ipynb\" target=\"_parent\"><img src=\"https://colab.research.google.com/assets/colab-badge.svg\" alt=\"Open In Colab\"/></a>"
      ]
    },
    {
      "cell_type": "code",
      "metadata": {
        "id": "FDa7fBe1nLw8",
        "colab_type": "code",
        "colab": {}
      },
      "source": [
        "import numpy as np\n"
      ],
      "execution_count": 0,
      "outputs": []
    },
    {
      "cell_type": "code",
      "metadata": {
        "id": "F3ipE94dozbp",
        "colab_type": "code",
        "colab": {}
      },
      "source": [
        "#Chapter 1 Python Language Basics, IPython, andJupyter Notebooks"
      ],
      "execution_count": 0,
      "outputs": []
    },
    {
      "cell_type": "code",
      "metadata": {
        "id": "wJzhREwkogNr",
        "colab_type": "code",
        "colab": {
          "base_uri": "https://localhost:8080/",
          "height": 35
        },
        "outputId": "859551a5-a4ff-4c6f-9d6d-1a1b5218508e"
      },
      "source": [
        "print('Hello world')"
      ],
      "execution_count": 12,
      "outputs": [
        {
          "output_type": "stream",
          "text": [
            "Hello world\n"
          ],
          "name": "stdout"
        }
      ]
    },
    {
      "cell_type": "code",
      "metadata": {
        "id": "rZzQej2QnU4I",
        "colab_type": "code",
        "colab": {
          "base_uri": "https://localhost:8080/",
          "height": 35
        },
        "outputId": "23c48c82-2fdc-4c39-aee7-3da7c4006f2e"
      },
      "source": [
        "\n",
        "a = 5\n",
        "print(a)"
      ],
      "execution_count": 8,
      "outputs": [
        {
          "output_type": "stream",
          "text": [
            "5\n"
          ],
          "name": "stdout"
        }
      ]
    },
    {
      "cell_type": "code",
      "metadata": {
        "id": "eFymUKthnU9c",
        "colab_type": "code",
        "colab": {}
      },
      "source": [
        "import numpy as np"
      ],
      "execution_count": 0,
      "outputs": []
    },
    {
      "cell_type": "code",
      "metadata": {
        "id": "LktVUALsnVAd",
        "colab_type": "code",
        "colab": {
          "base_uri": "https://localhost:8080/",
          "height": 145
        },
        "outputId": "8083bf91-00d1-4a4a-ce29-c6db00538390"
      },
      "source": [
        "data = {i : np.random.randn() for i in range(7)}\n",
        "data"
      ],
      "execution_count": 11,
      "outputs": [
        {
          "output_type": "execute_result",
          "data": {
            "text/plain": [
              "{0: -0.04907199896523967,\n",
              " 1: 0.7206579808401339,\n",
              " 2: -0.21302057099486313,\n",
              " 3: 0.38594529918601156,\n",
              " 4: 0.2648535947292585,\n",
              " 5: -1.4630436737125652,\n",
              " 6: -0.8529445191292531}"
            ]
          },
          "metadata": {
            "tags": []
          },
          "execution_count": 11
        }
      ]
    },
    {
      "cell_type": "code",
      "metadata": {
        "id": "9w2dZz-koKed",
        "colab_type": "code",
        "colab": {}
      },
      "source": [
        "#Tab Completion"
      ],
      "execution_count": 0,
      "outputs": []
    },
    {
      "cell_type": "code",
      "metadata": {
        "id": "JNozmu5-pkkN",
        "colab_type": "code",
        "colab": {}
      },
      "source": [
        " an_apple = 27"
      ],
      "execution_count": 0,
      "outputs": []
    },
    {
      "cell_type": "code",
      "metadata": {
        "id": "qHxQsOVYpo_9",
        "colab_type": "code",
        "colab": {}
      },
      "source": [
        " an_example = 42"
      ],
      "execution_count": 0,
      "outputs": []
    },
    {
      "cell_type": "code",
      "metadata": {
        "id": "UbC5VI9Bpus-",
        "colab_type": "code",
        "colab": {}
      },
      "source": [
        " b = [1, 2, 3]"
      ],
      "execution_count": 0,
      "outputs": []
    },
    {
      "cell_type": "code",
      "metadata": {
        "id": "EvFXNrPYp0Ls",
        "colab_type": "code",
        "colab": {}
      },
      "source": [
        " import datetime"
      ],
      "execution_count": 0,
      "outputs": []
    },
    {
      "cell_type": "code",
      "metadata": {
        "id": "zpO3ZSyPp4vE",
        "colab_type": "code",
        "colab": {
          "base_uri": "https://localhost:8080/",
          "height": 35
        },
        "outputId": "da8dae61-7060-4e1b-f862-7e53eae51a59"
      },
      "source": [
        "datetime.date"
      ],
      "execution_count": 20,
      "outputs": [
        {
          "output_type": "execute_result",
          "data": {
            "text/plain": [
              "datetime.date"
            ]
          },
          "metadata": {
            "tags": []
          },
          "execution_count": 20
        }
      ]
    },
    {
      "cell_type": "code",
      "metadata": {
        "id": "OKiwmCLhp-h4",
        "colab_type": "code",
        "colab": {}
      },
      "source": [
        "#Introspection\n",
        "#Using a question mark (?) before or after a variable will display some general infor‐mation about the object"
      ],
      "execution_count": 0,
      "outputs": []
    },
    {
      "cell_type": "code",
      "metadata": {
        "id": "t2y9OSLxqT8U",
        "colab_type": "code",
        "colab": {}
      },
      "source": [
        "b = [1, 2, 3]\n",
        "b?"
      ],
      "execution_count": 0,
      "outputs": []
    },
    {
      "cell_type": "code",
      "metadata": {
        "id": "WNT6r6MZqasF",
        "colab_type": "code",
        "colab": {}
      },
      "source": [
        " print?"
      ],
      "execution_count": 0,
      "outputs": []
    },
    {
      "cell_type": "code",
      "metadata": {
        "id": "ncUl5CLjqoMg",
        "colab_type": "code",
        "colab": {
          "base_uri": "https://localhost:8080/",
          "height": 35
        },
        "outputId": "fd2fdcb4-dbf9-4fc4-cdaa-a0767a753d4e"
      },
      "source": [
        "add_numbers?"
      ],
      "execution_count": 25,
      "outputs": [
        {
          "output_type": "stream",
          "text": [
            "Object `add_numbers` not found.\n"
          ],
          "name": "stdout"
        }
      ]
    },
    {
      "cell_type": "code",
      "metadata": {
        "id": "lt5prcAlq1gI",
        "colab_type": "code",
        "colab": {
          "base_uri": "https://localhost:8080/",
          "height": 35
        },
        "outputId": "e8cc384b-1011-4c95-8311-33747dba549b"
      },
      "source": [
        "add_numbers??"
      ],
      "execution_count": 26,
      "outputs": [
        {
          "output_type": "stream",
          "text": [
            "Object `add_numbers` not found.\n"
          ],
          "name": "stdout"
        }
      ]
    },
    {
      "cell_type": "code",
      "metadata": {
        "id": "dgOvwuibq6Mc",
        "colab_type": "code",
        "colab": {}
      },
      "source": [
        "np.*load*?"
      ],
      "execution_count": 0,
      "outputs": []
    },
    {
      "cell_type": "code",
      "metadata": {
        "id": "lwfl0_m-rAoN",
        "colab_type": "code",
        "colab": {}
      },
      "source": [
        "#The %run Command\n",
        "#You can run any file as a Python program inside the environment of your IPython session using the %run command. Suppose you had the following simple script storedin ipython_script_test.py:"
      ],
      "execution_count": 0,
      "outputs": []
    },
    {
      "cell_type": "code",
      "metadata": {
        "id": "m58cVvQGrLpC",
        "colab_type": "code",
        "colab": {}
      },
      "source": [
        "def f(x, y, z):\n",
        " return (x + y) / z\n",
        "a = 5\n",
        "b = 6\n",
        "c = 7.5\n",
        "result = f(a, b, c)\n"
      ],
      "execution_count": 0,
      "outputs": []
    },
    {
      "cell_type": "code",
      "metadata": {
        "id": "Kkrqgrb_re5X",
        "colab_type": "code",
        "colab": {
          "base_uri": "https://localhost:8080/",
          "height": 35
        },
        "outputId": "eb378dfb-4a3b-4722-9b26-9cedb5a21ac6"
      },
      "source": [
        "c"
      ],
      "execution_count": 43,
      "outputs": [
        {
          "output_type": "execute_result",
          "data": {
            "text/plain": [
              "7.5"
            ]
          },
          "metadata": {
            "tags": []
          },
          "execution_count": 43
        }
      ]
    },
    {
      "cell_type": "code",
      "metadata": {
        "id": "qJmCPh0ssFJq",
        "colab_type": "code",
        "colab": {
          "base_uri": "https://localhost:8080/",
          "height": 35
        },
        "outputId": "da9c044f-89f2-473d-d8cc-2d557627d702"
      },
      "source": [
        "result"
      ],
      "execution_count": 44,
      "outputs": [
        {
          "output_type": "execute_result",
          "data": {
            "text/plain": [
              "1.4666666666666666"
            ]
          },
          "metadata": {
            "tags": []
          },
          "execution_count": 44
        }
      ]
    },
    {
      "cell_type": "code",
      "metadata": {
        "id": "pxz6YG08sbS8",
        "colab_type": "code",
        "colab": {}
      },
      "source": [
        "def f(x, y, z):\n",
        " return (x + y) / z\n",
        " a = 5\n",
        " b = 6\n",
        " c = 7.5\n",
        " result = f(a, b, c)"
      ],
      "execution_count": 0,
      "outputs": []
    },
    {
      "cell_type": "code",
      "metadata": {
        "id": "zRFNHf0ps8mV",
        "colab_type": "code",
        "colab": {}
      },
      "source": [
        "#Executing Code from the Clipboard\n",
        "#If you are using the Jupyter notebook, you can copy and paste code into any code celland execute it. It is also possible to run code from the clipboard in the IPython shell.Suppose you had the following code in some other application:"
      ],
      "execution_count": 0,
      "outputs": []
    },
    {
      "cell_type": "code",
      "metadata": {
        "id": "nR6lM7cStMaG",
        "colab_type": "code",
        "colab": {}
      },
      "source": [
        "x = 5\n",
        "y = 7\n",
        "if x > 5:\n",
        " x += 1\n",
        " y = 8"
      ],
      "execution_count": 0,
      "outputs": []
    },
    {
      "cell_type": "code",
      "metadata": {
        "id": "8hEtkPotthQ5",
        "colab_type": "code",
        "colab": {
          "base_uri": "https://localhost:8080/",
          "height": 35
        },
        "outputId": "9b0d8194-4842-45a7-996c-e11fae72d8c6"
      },
      "source": [
        "%paste\n",
        "x = 5\n",
        "y = 7\n",
        "if x > 5:\n",
        " x += 1\n",
        " y = 8"
      ],
      "execution_count": 51,
      "outputs": [
        {
          "output_type": "stream",
          "text": [
            "UsageError: Line magic function `%paste` not found.\n"
          ],
          "name": "stderr"
        }
      ]
    },
    {
      "cell_type": "code",
      "metadata": {
        "id": "gl9Z29kotqVZ",
        "colab_type": "code",
        "colab": {
          "base_uri": "https://localhost:8080/",
          "height": 35
        },
        "outputId": "a060e34c-bf27-4937-9156-8364c3f99141"
      },
      "source": [
        "%cpaste\n",
        "x = 5\n",
        "y = 7\n",
        "if x > 5:\n",
        " x += 1"
      ],
      "execution_count": 53,
      "outputs": [
        {
          "output_type": "stream",
          "text": [
            "UsageError: Line magic function `%cpaste` not found.\n"
          ],
          "name": "stderr"
        }
      ]
    },
    {
      "cell_type": "code",
      "metadata": {
        "id": "FWjL5gAbt7hY",
        "colab_type": "code",
        "colab": {}
      },
      "source": [
        "#About Magic Commands IPython’s special commands (which are not built into Python itself) are known as “magic” commands. These are designed to facilitate common tasks and enable you toeasily control the behavior of the IPython system. A magic command is any command prefixed by the percent symbol %. For example, you can check the execution time of any Python statement, such as a matrix multiplication, using the %timeit magic function (which will be discussed in more detail later):\n"
      ],
      "execution_count": 0,
      "outputs": []
    },
    {
      "cell_type": "code",
      "metadata": {
        "id": "PoMhvdQvusQB",
        "colab_type": "code",
        "colab": {}
      },
      "source": [
        "a = np.random.randn(100, 100)\n",
        " \n",
        " \n"
      ],
      "execution_count": 0,
      "outputs": []
    },
    {
      "cell_type": "code",
      "metadata": {
        "id": "xNSXbWtHu1Hh",
        "colab_type": "code",
        "colab": {
          "base_uri": "https://localhost:8080/",
          "height": 54
        },
        "outputId": "8f0cbc8c-1b5c-428d-86d2-d408e0c2c9a2"
      },
      "source": [
        " %timeit np.dot(a, a)\n"
      ],
      "execution_count": 60,
      "outputs": [
        {
          "output_type": "stream",
          "text": [
            "The slowest run took 100.72 times longer than the fastest. This could mean that an intermediate result is being cached.\n",
            "10000 loops, best of 3: 99.9 µs per loop\n"
          ],
          "name": "stdout"
        }
      ]
    },
    {
      "cell_type": "code",
      "metadata": {
        "id": "54-h5Y-AvUK2",
        "colab_type": "code",
        "colab": {}
      },
      "source": [
        "%debug?"
      ],
      "execution_count": 0,
      "outputs": []
    },
    {
      "cell_type": "code",
      "metadata": {
        "id": "Xo5mHP8wvv7m",
        "colab_type": "code",
        "colab": {
          "base_uri": "https://localhost:8080/",
          "height": 35
        },
        "outputId": "d4b3699b-8cf4-4209-86ec-df85b7c5c1f4"
      },
      "source": [
        "%pwd"
      ],
      "execution_count": 62,
      "outputs": [
        {
          "output_type": "execute_result",
          "data": {
            "text/plain": [
              "'/content'"
            ]
          },
          "metadata": {
            "tags": []
          },
          "execution_count": 62
        }
      ]
    },
    {
      "cell_type": "code",
      "metadata": {
        "id": "j2yOkjCVv1Tv",
        "colab_type": "code",
        "colab": {}
      },
      "source": [
        "foo = %pwd"
      ],
      "execution_count": 0,
      "outputs": []
    },
    {
      "cell_type": "code",
      "metadata": {
        "id": "Wx-7ANjQv5VZ",
        "colab_type": "code",
        "colab": {
          "base_uri": "https://localhost:8080/",
          "height": 35
        },
        "outputId": "4b7a8e77-b6ba-4c22-ce2d-3b22c1d56945"
      },
      "source": [
        "foo"
      ],
      "execution_count": 64,
      "outputs": [
        {
          "output_type": "execute_result",
          "data": {
            "text/plain": [
              "'/content'"
            ]
          },
          "metadata": {
            "tags": []
          },
          "execution_count": 64
        }
      ]
    },
    {
      "cell_type": "code",
      "metadata": {
        "id": "GYwxtwtZv6hK",
        "colab_type": "code",
        "colab": {}
      },
      "source": [
        "#Matplotlib Integration One reason for IPython’s popularity in analytical computing is that it integrates well with data visualization and other user interface libraries like matplotlib"
      ],
      "execution_count": 0,
      "outputs": []
    },
    {
      "cell_type": "code",
      "metadata": {
        "id": "7i4S--lJwVhQ",
        "colab_type": "code",
        "colab": {
          "base_uri": "https://localhost:8080/",
          "height": 35
        },
        "outputId": "c30ba5ce-6075-4e1c-cc93-059e821c4d8e"
      },
      "source": [
        "%matplotlib\n"
      ],
      "execution_count": 69,
      "outputs": [
        {
          "output_type": "stream",
          "text": [
            "Using matplotlib backend: agg\n"
          ],
          "name": "stdout"
        }
      ]
    },
    {
      "cell_type": "code",
      "metadata": {
        "id": "eLviSmUwwdlR",
        "colab_type": "code",
        "colab": {}
      },
      "source": [
        "%matplotlib inline"
      ],
      "execution_count": 0,
      "outputs": []
    },
    {
      "cell_type": "code",
      "metadata": {
        "id": "VX0-9SGowlRH",
        "colab_type": "code",
        "colab": {}
      },
      "source": [
        "import matplotlib.pyplot as plt\n"
      ],
      "execution_count": 0,
      "outputs": []
    },
    {
      "cell_type": "code",
      "metadata": {
        "id": "UmvVHJfjxML1",
        "colab_type": "code",
        "colab": {
          "base_uri": "https://localhost:8080/",
          "height": 135
        },
        "outputId": "4320143c-e464-4a91-a5c8-9ba2cba61730"
      },
      "source": [
        "plt.plot(np.radom.randn(50) .cumsum.())"
      ],
      "execution_count": 76,
      "outputs": [
        {
          "output_type": "error",
          "ename": "SyntaxError",
          "evalue": "ignored",
          "traceback": [
            "\u001b[0;36m  File \u001b[0;32m\"<ipython-input-76-c882079d3ea8>\"\u001b[0;36m, line \u001b[0;32m1\u001b[0m\n\u001b[0;31m    plt.plot(np.radom.randn(50) .cumsum.())\u001b[0m\n\u001b[0m                                        ^\u001b[0m\n\u001b[0;31mSyntaxError\u001b[0m\u001b[0;31m:\u001b[0m invalid syntax\n"
          ]
        }
      ]
    },
    {
      "cell_type": "code",
      "metadata": {
        "id": "KtqNdN1BxTWf",
        "colab_type": "code",
        "colab": {
          "base_uri": "https://localhost:8080/",
          "height": 35
        },
        "outputId": "3fbb6732-518c-4cec-c89c-e8036c49d0e8"
      },
      "source": [
        "3#Variables and argument passing\n",
        "#When assigning a variable (or name) in Python, you are creating a reference to the\n",
        "#object on the righthand side of the equals sign. In practical terms, consider a list of\n",
        "#integers:\n"
      ],
      "execution_count": 78,
      "outputs": [
        {
          "output_type": "execute_result",
          "data": {
            "text/plain": [
              "3"
            ]
          },
          "metadata": {
            "tags": []
          },
          "execution_count": 78
        }
      ]
    },
    {
      "cell_type": "code",
      "metadata": {
        "id": "Hf_iJU_UyeA5",
        "colab_type": "code",
        "colab": {}
      },
      "source": [
        " a = [1, 2, 3]"
      ],
      "execution_count": 0,
      "outputs": []
    },
    {
      "cell_type": "code",
      "metadata": {
        "id": "tjCoL_mDykqs",
        "colab_type": "code",
        "colab": {}
      },
      "source": [
        "b=a"
      ],
      "execution_count": 0,
      "outputs": []
    },
    {
      "cell_type": "code",
      "metadata": {
        "id": "Or90KfJiynEN",
        "colab_type": "code",
        "colab": {}
      },
      "source": [
        "a.append(4)"
      ],
      "execution_count": 0,
      "outputs": []
    },
    {
      "cell_type": "code",
      "metadata": {
        "id": "Gtoy8d7Dyrdt",
        "colab_type": "code",
        "colab": {
          "base_uri": "https://localhost:8080/",
          "height": 35
        },
        "outputId": "38760913-b760-4cd8-8531-a3b76c9c40fe"
      },
      "source": [
        "b"
      ],
      "execution_count": 82,
      "outputs": [
        {
          "output_type": "execute_result",
          "data": {
            "text/plain": [
              "[1, 2, 3, 4]"
            ]
          },
          "metadata": {
            "tags": []
          },
          "execution_count": 82
        }
      ]
    },
    {
      "cell_type": "code",
      "metadata": {
        "id": "oMaj4uxGysfE",
        "colab_type": "code",
        "colab": {}
      },
      "source": [
        "data = [1, 2, 3]"
      ],
      "execution_count": 0,
      "outputs": []
    },
    {
      "cell_type": "code",
      "metadata": {
        "id": "i9gP29kxyzFq",
        "colab_type": "code",
        "colab": {
          "base_uri": "https://localhost:8080/",
          "height": 171
        },
        "outputId": "d542aaf4-d6a6-482d-aad1-5e7eae04eb8d"
      },
      "source": [
        "append_element(data, 4)"
      ],
      "execution_count": 95,
      "outputs": [
        {
          "output_type": "error",
          "ename": "NameError",
          "evalue": "ignored",
          "traceback": [
            "\u001b[0;31m---------------------------------------------------------------------------\u001b[0m",
            "\u001b[0;31mNameError\u001b[0m                                 Traceback (most recent call last)",
            "\u001b[0;32m<ipython-input-95-f0adc22b0edc>\u001b[0m in \u001b[0;36m<module>\u001b[0;34m()\u001b[0m\n\u001b[0;32m----> 1\u001b[0;31m \u001b[0mappend_element\u001b[0m\u001b[0;34m(\u001b[0m\u001b[0mdata\u001b[0m\u001b[0;34m,\u001b[0m \u001b[0;36m4\u001b[0m\u001b[0;34m)\u001b[0m\u001b[0;34m\u001b[0m\u001b[0;34m\u001b[0m\u001b[0m\n\u001b[0m",
            "\u001b[0;31mNameError\u001b[0m: name 'append_element' is not defined"
          ]
        }
      ]
    },
    {
      "cell_type": "code",
      "metadata": {
        "id": "MLpouvbFy3ix",
        "colab_type": "code",
        "colab": {
          "base_uri": "https://localhost:8080/",
          "height": 35
        },
        "outputId": "6855037a-c4ed-48a5-b745-b0171b4b23a7"
      },
      "source": [
        "data"
      ],
      "execution_count": 96,
      "outputs": [
        {
          "output_type": "execute_result",
          "data": {
            "text/plain": [
              "[1, 2, 3]"
            ]
          },
          "metadata": {
            "tags": []
          },
          "execution_count": 96
        }
      ]
    },
    {
      "cell_type": "code",
      "metadata": {
        "id": "dKS8per4zqR2",
        "colab_type": "code",
        "colab": {}
      },
      "source": [
        "#Dynamic references, strong typesIn contrast with many compiled languages, such as Java and C++, object references inPython have no type associated with them. There is no problem with the following:"
      ],
      "execution_count": 0,
      "outputs": []
    },
    {
      "cell_type": "code",
      "metadata": {
        "id": "pj_mGCNJ0UAs",
        "colab_type": "code",
        "colab": {
          "base_uri": "https://localhost:8080/",
          "height": 35
        },
        "outputId": "5b220959-7ef8-4832-a6cd-df801fdbb175"
      },
      "source": [
        "a = 5\n",
        "type(a)"
      ],
      "execution_count": 98,
      "outputs": [
        {
          "output_type": "execute_result",
          "data": {
            "text/plain": [
              "int"
            ]
          },
          "metadata": {
            "tags": []
          },
          "execution_count": 98
        }
      ]
    },
    {
      "cell_type": "code",
      "metadata": {
        "id": "RymV_9ur0T7f",
        "colab_type": "code",
        "colab": {}
      },
      "source": [
        "a = 'foo'\n"
      ],
      "execution_count": 0,
      "outputs": []
    },
    {
      "cell_type": "code",
      "metadata": {
        "id": "a5lS-T3D0T5e",
        "colab_type": "code",
        "colab": {
          "base_uri": "https://localhost:8080/",
          "height": 35
        },
        "outputId": "0433b272-c921-42ec-9176-d49499d14676"
      },
      "source": [
        "type(a)"
      ],
      "execution_count": 100,
      "outputs": [
        {
          "output_type": "execute_result",
          "data": {
            "text/plain": [
              "str"
            ]
          },
          "metadata": {
            "tags": []
          },
          "execution_count": 100
        }
      ]
    },
    {
      "cell_type": "code",
      "metadata": {
        "id": "SIGZQZGh0T3_",
        "colab_type": "code",
        "colab": {
          "base_uri": "https://localhost:8080/",
          "height": 171
        },
        "outputId": "99f31a27-1a28-4846-8ec5-79daf9689417"
      },
      "source": [
        "'5' + 5"
      ],
      "execution_count": 101,
      "outputs": [
        {
          "output_type": "error",
          "ename": "TypeError",
          "evalue": "ignored",
          "traceback": [
            "\u001b[0;31m---------------------------------------------------------------------------\u001b[0m",
            "\u001b[0;31mTypeError\u001b[0m                                 Traceback (most recent call last)",
            "\u001b[0;32m<ipython-input-101-4dd8efb5fac1>\u001b[0m in \u001b[0;36m<module>\u001b[0;34m()\u001b[0m\n\u001b[0;32m----> 1\u001b[0;31m \u001b[0;34m'5'\u001b[0m \u001b[0;34m+\u001b[0m \u001b[0;36m5\u001b[0m\u001b[0;34m\u001b[0m\u001b[0;34m\u001b[0m\u001b[0m\n\u001b[0m",
            "\u001b[0;31mTypeError\u001b[0m: must be str, not int"
          ]
        }
      ]
    },
    {
      "cell_type": "code",
      "metadata": {
        "id": "xDU9P6cG0T2K",
        "colab_type": "code",
        "colab": {}
      },
      "source": [
        "a = 4.5\n",
        "b = 2"
      ],
      "execution_count": 0,
      "outputs": []
    },
    {
      "cell_type": "code",
      "metadata": {
        "id": "SEkQh48w0Tz5",
        "colab_type": "code",
        "colab": {
          "base_uri": "https://localhost:8080/",
          "height": 35
        },
        "outputId": "a76f835e-93cd-49ad-bbe7-a35b14544af2"
      },
      "source": [
        "print('a is {0}, b is {1}'.format(type(a), type(b)))"
      ],
      "execution_count": 103,
      "outputs": [
        {
          "output_type": "stream",
          "text": [
            "a is <class 'float'>, b is <class 'int'>\n"
          ],
          "name": "stdout"
        }
      ]
    },
    {
      "cell_type": "code",
      "metadata": {
        "id": "2FRqUhUR0Txp",
        "colab_type": "code",
        "colab": {
          "base_uri": "https://localhost:8080/",
          "height": 35
        },
        "outputId": "43eab465-ccc5-4ee2-a240-b6b008e31537"
      },
      "source": [
        " a / b"
      ],
      "execution_count": 105,
      "outputs": [
        {
          "output_type": "execute_result",
          "data": {
            "text/plain": [
              "2.25"
            ]
          },
          "metadata": {
            "tags": []
          },
          "execution_count": 105
        }
      ]
    },
    {
      "cell_type": "code",
      "metadata": {
        "id": "QZOmxB7V1C65",
        "colab_type": "code",
        "colab": {}
      },
      "source": [
        "a = 5"
      ],
      "execution_count": 0,
      "outputs": []
    },
    {
      "cell_type": "code",
      "metadata": {
        "id": "NErG-7yD1J5M",
        "colab_type": "code",
        "colab": {
          "base_uri": "https://localhost:8080/",
          "height": 35
        },
        "outputId": "277c1bdf-d4f3-49eb-b22c-50c4a3cc594d"
      },
      "source": [
        "isinstance(a, int)"
      ],
      "execution_count": 108,
      "outputs": [
        {
          "output_type": "execute_result",
          "data": {
            "text/plain": [
              "True"
            ]
          },
          "metadata": {
            "tags": []
          },
          "execution_count": 108
        }
      ]
    },
    {
      "cell_type": "code",
      "metadata": {
        "id": "odvNJuqm1OjX",
        "colab_type": "code",
        "colab": {}
      },
      "source": [
        "a = 5; b = 4.5"
      ],
      "execution_count": 0,
      "outputs": []
    },
    {
      "cell_type": "code",
      "metadata": {
        "id": "p3fvkYfy1Xre",
        "colab_type": "code",
        "colab": {
          "base_uri": "https://localhost:8080/",
          "height": 35
        },
        "outputId": "a4dd1502-e45f-457b-b420-4c54b3eb2ccb"
      },
      "source": [
        "isinstance(a, (int, float))"
      ],
      "execution_count": 110,
      "outputs": [
        {
          "output_type": "execute_result",
          "data": {
            "text/plain": [
              "True"
            ]
          },
          "metadata": {
            "tags": []
          },
          "execution_count": 110
        }
      ]
    },
    {
      "cell_type": "code",
      "metadata": {
        "id": "MBeYgiDI1dxp",
        "colab_type": "code",
        "colab": {
          "base_uri": "https://localhost:8080/",
          "height": 35
        },
        "outputId": "44d52367-c8b5-445a-804d-292bae17f6e7"
      },
      "source": [
        "isinstance(b, (int, float))"
      ],
      "execution_count": 111,
      "outputs": [
        {
          "output_type": "execute_result",
          "data": {
            "text/plain": [
              "True"
            ]
          },
          "metadata": {
            "tags": []
          },
          "execution_count": 111
        }
      ]
    },
    {
      "cell_type": "code",
      "metadata": {
        "id": "lZs_HpPi1jkj",
        "colab_type": "code",
        "colab": {}
      },
      "source": [
        "#Attributes and methods Objects in Python typically have both attributes (other Python objects stored “inside” the object) and methods (functions associated with an object that can have access to the object’s internal data). Both of them are accessed via the syntax obj.attribute_name:\n"
      ],
      "execution_count": 0,
      "outputs": []
    },
    {
      "cell_type": "code",
      "metadata": {
        "id": "xag0ygAi12DE",
        "colab_type": "code",
        "colab": {}
      },
      "source": [
        " a = 'foo'\n"
      ],
      "execution_count": 0,
      "outputs": []
    },
    {
      "cell_type": "code",
      "metadata": {
        "id": "2WLP8b7916Wo",
        "colab_type": "code",
        "colab": {
          "base_uri": "https://localhost:8080/",
          "height": 135
        },
        "outputId": "8a4a9e04-9931-4120-d569-6914701b2e7c"
      },
      "source": [
        "a.capitalize a.format a.isupper a.rindex a.strip\n",
        "a.center a.index a.join a.rjust a.swapcase\n",
        "a.count a.isalnum a.ljust a.rpartition a.title\n",
        "a.decode a.isalpha a.lower a.rsplit a.translate\n",
        "a.encode a.isdigit a.lstrip a.rstrip a.upper\n",
        "a.endswith a.islower a.partition a.split a.zfill\n",
        "a.expandtabs a.isspace a.replace a.splitlines\n",
        "a.find a.istitle a.rfind a.startswith\n"
      ],
      "execution_count": 120,
      "outputs": [
        {
          "output_type": "error",
          "ename": "SyntaxError",
          "evalue": "ignored",
          "traceback": [
            "\u001b[0;36m  File \u001b[0;32m\"<ipython-input-120-bd9336ba182d>\"\u001b[0;36m, line \u001b[0;32m1\u001b[0m\n\u001b[0;31m    a.capitalize a.format a.isupper a.rindex a.strip\u001b[0m\n\u001b[0m                 ^\u001b[0m\n\u001b[0;31mSyntaxError\u001b[0m\u001b[0;31m:\u001b[0m invalid syntax\n"
          ]
        }
      ]
    },
    {
      "cell_type": "code",
      "metadata": {
        "id": "CsXnDFO_2B2e",
        "colab_type": "code",
        "colab": {}
      },
      "source": [
        "getattr(a, 'split') #page33"
      ],
      "execution_count": 0,
      "outputs": []
    },
    {
      "cell_type": "code",
      "metadata": {
        "id": "en765sbN2RAw",
        "colab_type": "code",
        "colab": {}
      },
      "source": [
        "\n",
        "\n"
      ],
      "execution_count": 0,
      "outputs": []
    },
    {
      "cell_type": "code",
      "metadata": {
        "id": "QmTYfzRI2rY7",
        "colab_type": "code",
        "colab": {}
      },
      "source": [
        "\n"
      ],
      "execution_count": 0,
      "outputs": []
    }
  ]
}